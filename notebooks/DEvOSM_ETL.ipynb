{
 "cells": [
  {
   "cell_type": "code",
   "execution_count": 1,
   "metadata": {},
   "outputs": [],
   "source": [
    "import json\n",
    "import os\n",
    "\n",
    "os.environ[\"CUDA_VISIBLE_DEVICES\"]=\"\""
   ]
  },
  {
   "cell_type": "code",
   "execution_count": 2,
   "metadata": {},
   "outputs": [
    {
     "name": "stdout",
     "output_type": "stream",
     "text": [
      "./sample_extractor/ETL_sample/0000.json\n",
      "./sample_extractor/ETL_sample/0001.json\n",
      "./sample_extractor/ETL_sample/0002.json\n"
     ]
    }
   ],
   "source": [
    "sample_extractor_json_path = './sample_extractor/ETL_sample/'\n",
    "sets_data = []\n",
    "\n",
    "for json_file in os.listdir(sample_extractor_json_path):\n",
    "    print(sample_extractor_json_path + json_file)\n",
    "    with open(sample_extractor_json_path + json_file, 'r') as fs:\n",
    "        set_data = json.loads(fs.read())\n",
    "    sets_data.append(set_data)"
   ]
  },
  {
   "cell_type": "code",
   "execution_count": 3,
   "metadata": {},
   "outputs": [
    {
     "name": "stdout",
     "output_type": "stream",
     "text": [
      "--set matching--\n",
      "- master -\n",
      "Set_1 data less than 3. Skip this set!\n",
      "Set_2 data less than 3. Skip this set!\n",
      "Set_3 data less than 3. Skip this set!\n",
      "Set_4 data less than 3. Skip this set!\n",
      "Set_5 data less than 3. Skip this set!\n",
      "Set_10 data less than 3. Skip this set!\n",
      "Set_11 data less than 3. Skip this set!\n",
      "Set_13 data less than 3. Skip this set!\n",
      "- slave -\n",
      "Set_1 data less than 3. Skip this set!\n",
      "Set_2 data less than 3. Skip this set!\n",
      "Set_3 data less than 3. Skip this set!\n",
      "Set_4 data less than 3. Skip this set!\n",
      "Set_5 data less than 3. Skip this set!\n",
      "Set_6 data less than 3. Skip this set!\n",
      "--col matching--\n",
      "{1: [1], 2: [2], 3: [3], 4: [4], 5: [0], 6: [0]}\n",
      "same col\n",
      "[0, 1, 2, 3, 4, 5]\n",
      "done\n",
      "same col\n",
      "[0, 1, 2]\n",
      "done\n",
      "same col\n",
      "[0, 1]\n",
      "done\n",
      "diff col 245   253\n",
      "--set matching--\n",
      "- master -\n",
      "Set_1 data less than 3. Skip this set!\n",
      "Set_2 data less than 3. Skip this set!\n",
      "Set_3 data less than 3. Skip this set!\n",
      "Set_4 data less than 3. Skip this set!\n",
      "Set_5 data less than 3. Skip this set!\n",
      "Set_10 data less than 3. Skip this set!\n",
      "Set_11 data less than 3. Skip this set!\n",
      "Set_13 data less than 3. Skip this set!\n",
      "- slave -\n",
      "Set_1 data less than 3. Skip this set!\n",
      "Set_2 data less than 3. Skip this set!\n",
      "Set_3 data less than 3. Skip this set!\n",
      "Set_4 data less than 3. Skip this set!\n",
      "Set_5 data less than 3. Skip this set!\n",
      "Set_9 data less than 3. Skip this set!\n",
      "Set_10 data less than 3. Skip this set!\n",
      "Set_13 data less than 3. Skip this set!\n",
      "Set_14 data less than 3. Skip this set!\n",
      "Set_15 data less than 3. Skip this set!\n",
      "Set_17 data less than 3. Skip this set!\n",
      "--col matching--\n",
      "{1: [1], 2: [2], 3: [3], 4: [4], 5: [5], 0: [6], 6: [7]}\n",
      "same col\n",
      "[0, 1, 2, 3, 4, 5]\n",
      "done\n",
      "same col\n",
      "[0, 1, 2]\n",
      "done\n",
      "same col\n",
      "[0, 1]\n",
      "done\n",
      "diff col 245   229\n",
      "diff col 188   241\n",
      "same col\n",
      "[0]\n",
      "done\n",
      "3.17 s\n"
     ]
    }
   ],
   "source": [
    "from ..util.matching import *\n",
    "import time\n",
    "\n",
    "start = time.time()\n",
    "\n",
    "folder_path = './schema_matching_data/multipage/test/Web_' + str(datetime.now().strftime('%y%m%d%H%M%S'))\n",
    "master = sets_data[0]\n",
    "\n",
    "# start matching data\n",
    "if len(sets_data) > 1:\n",
    "    for slave in sets_data[1:]:\n",
    "        # set matching\n",
    "        print('--set matching--')\n",
    "        set_result, master_index, slave_index = sets_matching(master, slave)\n",
    "        # col matching\n",
    "        print('--col matching--')\n",
    "        master = col_matching_forDB(set_result, master, slave, master_index, slave_index, model_select=2)\n",
    "else:\n",
    "    print(\"Unable to combine!!!\")\n",
    "\n",
    "sets_data = master\n",
    "\n",
    "# remove sets_data less than 3\n",
    "for index, data in enumerate(sets_data.copy()):\n",
    "    if len(data) < 3:\n",
    "        sets_data.remove(data)\n",
    "\n",
    "# check if folder path exists\n",
    "if not os.path.exists(folder_path):\n",
    "    os.makedirs(folder_path)\n",
    "\n",
    "for set_index, set_data in enumerate(sets_data):\n",
    "    with open(f\"{folder_path}/Set-{str(set_index)}.json\", 'w') as fs:\n",
    "        json.dump(set_data, fs)\n",
    "            \n",
    "end = time.time()\n",
    "print(\"{:.2f} s\".format(end - start))"
   ]
  }
 ],
 "metadata": {
  "kernelspec": {
   "display_name": "Python 3",
   "language": "python",
   "name": "python3"
  },
  "language_info": {
   "codemirror_mode": {
    "name": "ipython",
    "version": 3
   },
   "file_extension": ".py",
   "mimetype": "text/x-python",
   "name": "python",
   "nbconvert_exporter": "python",
   "pygments_lexer": "ipython3",
   "version": "3.8.10"
  }
 },
 "nbformat": 4,
 "nbformat_minor": 2
}
