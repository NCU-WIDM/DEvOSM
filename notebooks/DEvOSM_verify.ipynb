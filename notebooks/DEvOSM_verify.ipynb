{
 "cells": [
  {
   "cell_type": "code",
   "execution_count": 1,
   "metadata": {},
   "outputs": [
    {
     "name": "stdout",
     "output_type": "stream",
     "text": [
      "Loaded the plot_curve function.\n"
     ]
    }
   ],
   "source": [
    "import datetime\n",
    "import pandas as pd\n",
    "import numpy as np\n",
    "import time\n",
    "import torch\n",
    "import torch.nn as nn\n",
    "import torch.nn.functional as F\n",
    "import torch.optim as optim\n",
    "from transformers import logging\n",
    "import tensorflow as tf\n",
    "from tensorflow.keras import layers\n",
    "from sklearn import neighbors\n",
    "from sentence_transformers import SentenceTransformer\n",
    "from sklearn import svm\n",
    "from sklearn.naive_bayes import GaussianNB\n",
    "from sklearn import metrics\n",
    "from sklearn.metrics import f1_score\n",
    "from sklearn.metrics import precision_score\n",
    "from sklearn.metrics import recall_score\n",
    "from sklearn.metrics import accuracy_score\n",
    "from pymongo import MongoClient\n",
    "import configparser\n",
    "import os\n",
    "import bs4\n",
    "from bs4 import BeautifulSoup\n",
    "import codecs\n",
    "\n",
    "# load config file data\n",
    "config = configparser.ConfigParser()\n",
    "config.read('../config.ini')\n",
    "\n",
    "client = MongoClient(f\"mongodb://{config['MongoDB']['account']}:{config['MongoDB']['password']}@{config['MongoDB']['ip']}:{config['MongoDB']['port']}/\")\n",
    "database = client[config['MongoDB']['database']]\n",
    "collection = database[config['MongoDB']['collection']]\n",
    "\n",
    "from feature_extractor import *\n",
    "from VoteRule import *\n",
    "from NN_model import *\n",
    "from DP_set_matching_api import *"
   ]
  },
  {
   "cell_type": "code",
   "execution_count": 2,
   "metadata": {},
   "outputs": [],
   "source": [
    "data = ['u53k9144jel6xdnnm8', 'u53k9144i0l6xdn5a1', 'u53k9144itl6usu36e','u53k9144itl6usu36e']"
   ]
  },
  {
   "cell_type": "code",
   "execution_count": 3,
   "metadata": {},
   "outputs": [],
   "source": [
    "train_num = 1\n",
    "test_num = 2"
   ]
  },
  {
   "cell_type": "code",
   "execution_count": 4,
   "metadata": {
    "scrolled": true
   },
   "outputs": [
    {
     "name": "stdout",
     "output_type": "stream",
     "text": [
      "u53k9144jel6xdnnm8\n"
     ]
    },
    {
     "name": "stderr",
     "output_type": "stream",
     "text": [
      "/tf/DEvOSM/DP_set_matching_api.py:374: FutureWarning: iteritems is deprecated and will be removed in a future version. Use .items instead.\n",
      "  for j, column in row.iteritems():\n",
      "/tf/DEvOSM/DP_set_matching_api.py:374: FutureWarning: iteritems is deprecated and will be removed in a future version. Use .items instead.\n",
      "  for j, column in row.iteritems():\n",
      "/tf/DEvOSM/DP_set_matching_api.py:374: FutureWarning: iteritems is deprecated and will be removed in a future version. Use .items instead.\n",
      "  for j, column in row.iteritems():\n",
      "/tf/DEvOSM/DP_set_matching_api.py:374: FutureWarning: iteritems is deprecated and will be removed in a future version. Use .items instead.\n",
      "  for j, column in row.iteritems():\n",
      "/tf/DEvOSM/DP_set_matching_api.py:374: FutureWarning: iteritems is deprecated and will be removed in a future version. Use .items instead.\n",
      "  for j, column in row.iteritems():\n",
      "/tf/DEvOSM/DP_set_matching_api.py:374: FutureWarning: iteritems is deprecated and will be removed in a future version. Use .items instead.\n",
      "  for j, column in row.iteritems():\n",
      "/tf/DEvOSM/DP_set_matching_api.py:374: FutureWarning: iteritems is deprecated and will be removed in a future version. Use .items instead.\n",
      "  for j, column in row.iteritems():\n"
     ]
    },
    {
     "name": "stdout",
     "output_type": "stream",
     "text": [
      "delete\n",
      "delete\n",
      "delete\n",
      "delete\n",
      "delete\n"
     ]
    },
    {
     "name": "stderr",
     "output_type": "stream",
     "text": [
      "/tf/DEvOSM/DP_set_matching_api.py:374: FutureWarning: iteritems is deprecated and will be removed in a future version. Use .items instead.\n",
      "  for j, column in row.iteritems():\n",
      "/tf/DEvOSM/DP_set_matching_api.py:374: FutureWarning: iteritems is deprecated and will be removed in a future version. Use .items instead.\n",
      "  for j, column in row.iteritems():\n",
      "/tf/DEvOSM/DP_set_matching_api.py:374: FutureWarning: iteritems is deprecated and will be removed in a future version. Use .items instead.\n",
      "  for j, column in row.iteritems():\n",
      "/tf/DEvOSM/DP_set_matching_api.py:374: FutureWarning: iteritems is deprecated and will be removed in a future version. Use .items instead.\n",
      "  for j, column in row.iteritems():\n",
      "/tf/DEvOSM/DP_set_matching_api.py:374: FutureWarning: iteritems is deprecated and will be removed in a future version. Use .items instead.\n",
      "  for j, column in row.iteritems():\n",
      "/tf/DEvOSM/DP_set_matching_api.py:374: FutureWarning: iteritems is deprecated and will be removed in a future version. Use .items instead.\n",
      "  for j, column in row.iteritems():\n"
     ]
    },
    {
     "name": "stdout",
     "output_type": "stream",
     "text": [
      "delete\n",
      "delete\n"
     ]
    },
    {
     "name": "stderr",
     "output_type": "stream",
     "text": [
      "/tf/DEvOSM/DP_set_matching_api.py:374: FutureWarning: iteritems is deprecated and will be removed in a future version. Use .items instead.\n",
      "  for j, column in row.iteritems():\n",
      "/tf/DEvOSM/DP_set_matching_api.py:374: FutureWarning: iteritems is deprecated and will be removed in a future version. Use .items instead.\n",
      "  for j, column in row.iteritems():\n",
      "/tf/DEvOSM/DP_set_matching_api.py:374: FutureWarning: iteritems is deprecated and will be removed in a future version. Use .items instead.\n",
      "  for j, column in row.iteritems():\n",
      "/tf/DEvOSM/DP_set_matching_api.py:374: FutureWarning: iteritems is deprecated and will be removed in a future version. Use .items instead.\n",
      "  for j, column in row.iteritems():\n",
      "/tf/DEvOSM/DP_set_matching_api.py:374: FutureWarning: iteritems is deprecated and will be removed in a future version. Use .items instead.\n",
      "  for j, column in row.iteritems():\n"
     ]
    },
    {
     "name": "stdout",
     "output_type": "stream",
     "text": [
      "delete\n",
      "delete\n",
      "delete\n",
      "delete\n"
     ]
    },
    {
     "name": "stderr",
     "output_type": "stream",
     "text": [
      "/tf/DEvOSM/DP_set_matching_api.py:374: FutureWarning: iteritems is deprecated and will be removed in a future version. Use .items instead.\n",
      "  for j, column in row.iteritems():\n",
      "/tf/DEvOSM/DP_set_matching_api.py:374: FutureWarning: iteritems is deprecated and will be removed in a future version. Use .items instead.\n",
      "  for j, column in row.iteritems():\n",
      "/tf/DEvOSM/DP_set_matching_api.py:374: FutureWarning: iteritems is deprecated and will be removed in a future version. Use .items instead.\n",
      "  for j, column in row.iteritems():\n",
      "/tf/DEvOSM/DP_set_matching_api.py:374: FutureWarning: iteritems is deprecated and will be removed in a future version. Use .items instead.\n",
      "  for j, column in row.iteritems():\n",
      "/tf/DEvOSM/DP_set_matching_api.py:374: FutureWarning: iteritems is deprecated and will be removed in a future version. Use .items instead.\n",
      "  for j, column in row.iteritems():\n"
     ]
    },
    {
     "name": "stdout",
     "output_type": "stream",
     "text": [
      "delete\n",
      "delete\n",
      "delete\n"
     ]
    },
    {
     "name": "stderr",
     "output_type": "stream",
     "text": [
      "/tf/DEvOSM/DP_set_matching_api.py:374: FutureWarning: iteritems is deprecated and will be removed in a future version. Use .items instead.\n",
      "  for j, column in row.iteritems():\n"
     ]
    },
    {
     "name": "stdout",
     "output_type": "stream",
     "text": [
      "set_result:  {1: [1], 2: [2], 3: [3], 4: [4], 5: [0], 6: [0]}\n",
      "{1: [1], 2: [2], 3: [3], 4: [4], 5: [0], 6: [0]}\n",
      "same col\n",
      "[0, 1, 2, 3, 4, 5]\n",
      "done\n",
      "same col\n",
      "[0, 1, 2]\n",
      "done\n",
      "same col\n",
      "[0, 1]\n",
      "done\n",
      "diff col 245   253\n",
      "u53k9144i0l6xdn5a1\n",
      "train done\n"
     ]
    },
    {
     "ename": "NameError",
     "evalue": "name 'set_result2' is not defined",
     "output_type": "error",
     "traceback": [
      "\u001b[0;31m\u001b[0m",
      "\u001b[0;31mNameError\u001b[0mTraceback (most recent call last)",
      "Cell \u001b[0;32mIn [4], line 18\u001b[0m\n\u001b[1;32m     16\u001b[0m \u001b[38;5;28mprint\u001b[39m(\u001b[38;5;124m\"\u001b[39m\u001b[38;5;124mtrain done\u001b[39m\u001b[38;5;124m\"\u001b[39m)\n\u001b[1;32m     17\u001b[0m \u001b[38;5;66;03m#  train完的schema 會存在set_result2裡面\u001b[39;00m\n\u001b[0;32m---> 18\u001b[0m \u001b[38;5;28mprint\u001b[39m(\u001b[38;5;124m\"\u001b[39m\u001b[38;5;124mset_result2: \u001b[39m\u001b[38;5;124m\"\u001b[39m,\u001b[43mset_result2\u001b[49m)\n\u001b[1;32m     19\u001b[0m \u001b[38;5;66;03m#計算train完的schema 總共的leafnode有多少\u001b[39;00m\n\u001b[1;32m     20\u001b[0m \u001b[38;5;28;01mfor\u001b[39;00m \u001b[38;5;28mset\u001b[39m \u001b[38;5;129;01min\u001b[39;00m col_result[\u001b[38;5;124m'\u001b[39m\u001b[38;5;124msetsData\u001b[39m\u001b[38;5;124m'\u001b[39m]:\n",
      "\u001b[0;31mNameError\u001b[0m: name 'set_result2' is not defined"
     ]
    }
   ],
   "source": [
    "\n",
    "train = col_temp.find_one({'serialNumber': data[0]})   \n",
    "temp = []\n",
    "MR = []\n",
    "predict_page_count = 0 #測試資料有多少\n",
    "\n",
    "leafnode = 0\n",
    "\n",
    "#     train_start_time = time.perf_counter()\n",
    "for ser_index in range(len(data)-1):\n",
    "    print(data[ser_index])\n",
    "    misleafnode = 0\n",
    "\n",
    "    predict = col_temp.find_one({'serialNumber':data[ser_index+1]})    \n",
    "    if ser_index >=train_num and ser_index <=(train_num+test_num):\n",
    "        if ser_index ==train_num:\n",
    "            print(\"train done\")\n",
    "            #  train完的schema 會存在set_result2裡面\n",
    "            print(\"set_result: \",set_result)\n",
    "#             print(\"set_result2: \",set_result2)\n",
    "            #計算train完的schema 總共的leafnode有多少\n",
    "            for set in col_result['setsData']:\n",
    "                for col in set:\n",
    "                    for row in col:\n",
    "                        leafnode +=1\n",
    "        \n",
    "        predict_set_result,train_index2,predict_index2 = set_matching_api_forDB(col_result,predict)\n",
    "        print(\"predict result: \",predict_set_result)  \n",
    "        predict_page_count+=1\n",
    "        ## 去算訓練好的schema 中 多的 和 少的 記錄集 裡面leafnode多出多少 \n",
    "        for key,value in predict_set_result.items():\n",
    "            if key == 0:\n",
    "                #多的\n",
    "                for i in value:\n",
    "                    for col in predict['setsData'][i]:\n",
    "                        for row in col:\n",
    "                            misleafnode+=1\n",
    "#                 else:        \n",
    "#                     if value[0] == 0:#少的\n",
    "#                         for col in col_result['setsData'][key]:\n",
    "#                             for row in col:\n",
    "#                                 misleafnode+=1\n",
    "#         try:\n",
    "            MR.append(misleafnode/leafnode) \n",
    "#         except:\n",
    "#             MR.append(0)\n",
    "    elif ser_index == 0:\n",
    "#         try:\n",
    "            set_result,train_index,predict_index = set_matching_api_forDB(train,predict)\n",
    "            print(\"set_result: \",set_result)\n",
    "            col_result = col_matching_forDB(set_result,train,predict,train_index,predict_index,model_select=1)\n",
    "#         except: \n",
    "#             col_result = \"None\"\n",
    "#             break;\n",
    "    elif ser_index > (train_num+test_num):\n",
    "        break\n",
    "    else:\n",
    "        set_result2,train_index2,predict_index2 = set_matching_api_forDB(col_result,predict)\n",
    "        col_result = col_matching_forDB(set_result2,col_result,predict,train_index2,predict_index2,model_select=1)\n",
    "    \n",
    "print(MR)"
   ]
  },
  {
   "cell_type": "code",
   "execution_count": null,
   "metadata": {},
   "outputs": [],
   "source": []
  }
 ],
 "metadata": {
  "kernelspec": {
   "display_name": "Python 3",
   "language": "python",
   "name": "python3"
  },
  "language_info": {
   "codemirror_mode": {
    "name": "ipython",
    "version": 3
   },
   "file_extension": ".py",
   "mimetype": "text/x-python",
   "name": "python",
   "nbconvert_exporter": "python",
   "pygments_lexer": "ipython3",
   "version": "3.10.9"
  },
  "vscode": {
   "interpreter": {
    "hash": "97cc609b13305c559618ec78a438abc56230b9381f827f22d070313b9a1f3777"
   }
  }
 },
 "nbformat": 4,
 "nbformat_minor": 2
}
