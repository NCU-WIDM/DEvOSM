{
 "cells": [
  {
   "cell_type": "code",
   "execution_count": 5,
   "metadata": {},
   "outputs": [],
   "source": [
    "import numpy as np"
   ]
  },
  {
   "cell_type": "code",
   "execution_count": 7,
   "metadata": {},
   "outputs": [],
   "source": [
    "def cal_vote_result_for_KNN(model,column_num,row_number,embeddings_predict):\n",
    "  #  column_num = len(df.columns)\n",
    "  #  testing_row_number = len(df_predict)\n",
    "    group_vote = []\n",
    "\n",
    "    index = 0\n",
    "    for j in range(0,column_num):\n",
    "        vote = [0] * column_num\n",
    "        for i in range(0,row_number):\n",
    "            \n",
    "            cell_prob = model.predict_proba(embeddings_predict[index + i][:].reshape(1, -1))\n",
    "            #print(cell_prob)\n",
    "            if np.max(cell_prob)>0.6:\n",
    "                vote[np.argmax(cell_prob)] += 1  \n",
    "        group_vote.append(vote)\n",
    "        index = index + row_number\n",
    "    #print(group_vote)\n",
    "    return group_vote\n",
    "    "
   ]
  },
  {
   "cell_type": "code",
   "execution_count": 8,
   "metadata": {},
   "outputs": [],
   "source": [
    "def cal_vote_result_for_NN(model,column_num,row_number,embeddings_predict):\n",
    "  #  column_num = len(df.columns)\n",
    "  #  testing_row_number = len(df_predict)\n",
    "    group_vote = []\n",
    "\n",
    "    index = 0\n",
    "    for j in range(0,column_num):\n",
    "        vote = [0] * column_num\n",
    "        for i in range(0,row_number):\n",
    "            cell_prob = model.predict(embeddings_predict[index + i][:].reshape(1, -1))\n",
    "            #if np.max(cell_prob)>=0.5:\n",
    "            vote[np.argmax(cell_prob)] += 1  \n",
    "        group_vote.append(vote)\n",
    "        index = index + row_number\n",
    "    #print(group_vote)    \n",
    "    return group_vote\n",
    "    "
   ]
  },
  {
   "cell_type": "code",
   "execution_count": 9,
   "metadata": {},
   "outputs": [],
   "source": [
    "def classifier(column_num,group_vote):\n",
    "    column_result = [-1] *  column_num\n",
    "    while -1 in column_result: # 當所有column都被對齊之後結束迴圈\n",
    "        #print(\"start\")\n",
    "        for index , c in enumerate(group_vote):\n",
    "\n",
    "\n",
    "            if all(kk == -1 for kk in group_vote[index]): #如果此column已對齊，跳過此回合\n",
    "                #print(\"skip\")\n",
    "                continue \n",
    "\n",
    "            #print(\"group \" ,index , \"vote_result\",c ,\"choose:\" , np.argmax(c))\n",
    "\n",
    "            #print(column_result[ np.argmax(c)])\n",
    "            if column_result[ np.argmax(c)] != -1 : #-1表示目前沒有任何column與這個column對齊 \n",
    "                candidate = column_result[np.argmax(c)]\n",
    "\n",
    "                candidate_votenum  = group_vote[candidate][np.argmax(c)]\n",
    "\n",
    "                c_votenum = group_vote[index][np.argmax(c)]\n",
    "\n",
    "                if candidate_votenum < c_votenum: #競爭 看哪一個表較多 \n",
    "                    #print(\"candidate_votenum \" , candidate_votenum ,\"< c_votenum\" , c_votenum)\n",
    "                    column_result[np.argmax(c)]= index\n",
    "            else: #不用競爭\n",
    "                column_result[np.argmax(c)] = index\n",
    "            #print(column_result)\n",
    "        for r_index , r in enumerate(column_result): #將已經選定的column設定成-1 使得下一次選column時 不需考慮這些已經對齊完成的\n",
    "            if r != -1:\n",
    "                group_vote[r] =[-1]*column_num\n",
    "                for i in group_vote:\n",
    "                    i[r_index] = -1\n",
    "        \n",
    "    return column_result"
   ]
  }
 ],
 "metadata": {
  "kernelspec": {
   "display_name": "Python 3",
   "language": "python",
   "name": "python3"
  },
  "language_info": {
   "codemirror_mode": {
    "name": "ipython",
    "version": 3
   },
   "file_extension": ".py",
   "mimetype": "text/x-python",
   "name": "python",
   "nbconvert_exporter": "python",
   "pygments_lexer": "ipython3",
   "version": "3.8.10"
  }
 },
 "nbformat": 4,
 "nbformat_minor": 2
}
