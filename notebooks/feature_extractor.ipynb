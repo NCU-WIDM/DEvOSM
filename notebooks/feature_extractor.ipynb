{
 "cells": [
  {
   "cell_type": "code",
   "execution_count": 1,
   "metadata": {},
   "outputs": [],
   "source": [
    "#@title Import relevant modules\n",
    "import numpy as np\n",
    "import pandas as pd\n",
    "import tensorflow as tf\n",
    "from tensorflow.keras import layers\n",
    "from matplotlib import pyplot as plt\n",
    "import validators\n",
    "\n"
   ]
  },
  {
   "cell_type": "code",
   "execution_count": 2,
   "metadata": {},
   "outputs": [],
   "source": [
    "# data_file_path = '中研院-學術訊息'\n",
    "# datapath = pd.read_excel('./schema_matching_data/schema_matching.xlsx',engine='openpyxl')\n",
    "# train_path = './schema_matching_data/data/'+data_file_path+'/output/page1.csv'\n",
    "# test_path = './schema_matching_data/data/'+data_file_path+'/output/page3.csv'\n",
    "# train_path = 'THE_data.csv'\n",
    "# test_path = 'THE_taiwain.csv'"
   ]
  },
  {
   "cell_type": "code",
   "execution_count": 3,
   "metadata": {},
   "outputs": [],
   "source": [
    "# encoding = 'utf8'\n",
    "# df = pd.read_csv(train_path,encoding = 'utf8')\n",
    "# df_predict = pd.read_csv(test_path,encoding = 'utf8')\n",
    "# df = df.astype(str)\n",
    "# df_predict = df_predict.astype(str)"
   ]
  },
  {
   "cell_type": "code",
   "execution_count": 4,
   "metadata": {},
   "outputs": [],
   "source": [
    "# df"
   ]
  },
  {
   "cell_type": "code",
   "execution_count": 5,
   "metadata": {},
   "outputs": [],
   "source": [
    "import re\n",
    "regex = (\"((http|https)://)(www.)?\" +\n",
    "             \"[a-zA-Z0-9@:%._\\\\+~#?&//=]\" +\n",
    "             \"{2,256}\\\\.[a-z]\" +\n",
    "             \"{2,6}\\\\b([-a-zA-Z0-9@:%\" +\n",
    "             \"._\\\\+~#?&//=]*)\")"
   ]
  },
  {
   "cell_type": "code",
   "execution_count": 16,
   "metadata": {},
   "outputs": [],
   "source": [
    "def isValidURL(url):\n",
    " \n",
    "    # Regex to check valid URL\n",
    "    regex = (\"((http|https)://)(www.)?\" +\n",
    "             \"[a-zA-Z0-9@:%._\\\\+~#?&//=]\" +\n",
    "             \"{2,256}\\\\.[a-z]\" +\n",
    "             \"{2,6}\\\\b([-a-zA-Z0-9@:%\" +\n",
    "             \"._\\\\+~#?&//=]*)\")\n",
    "     \n",
    "    # Compile the ReGex\n",
    " \n",
    "    # If the string is empty\n",
    "    # return false\n",
    "    if (url == None):\n",
    "        return 0\n",
    "    \n",
    " \n",
    "    # Return if the string\n",
    "    # matched the ReGex\n",
    "    if re.search(regex, url) and validators.url(url):\n",
    "        return 1\n",
    "    else:\n",
    "        return 0"
   ]
  },
  {
   "cell_type": "code",
   "execution_count": 17,
   "metadata": {},
   "outputs": [],
   "source": [
    "def isValidFloat(str):\n",
    " \n",
    " \n",
    "    regex = (\"[-+]?\\d*\\.\\d+|\\d+\")\n",
    "     \n",
    "    # Compile the ReGex\n",
    "    p = re.compile(regex)\n",
    " \n",
    "    # If the string is empty\n",
    "    # return false\n",
    "    if (str == None):\n",
    "        return 0\n",
    " \n",
    "    # Return if the string\n",
    "    # matched the ReGex\n",
    "    if(re.search(p, str)):\n",
    "        return 1\n",
    "    else:\n",
    "        return 0"
   ]
  },
  {
   "cell_type": "code",
   "execution_count": 18,
   "metadata": {},
   "outputs": [
    {
     "data": {
      "text/plain": [
       "(1, 0)"
      ]
     },
     "execution_count": 18,
     "metadata": {},
     "output_type": "execute_result"
    }
   ],
   "source": [
    "isValidURL('https://www.dot.gov.tw/htmlList/ch_7'), isValidURL(' ')"
   ]
  },
  {
   "cell_type": "code",
   "execution_count": 9,
   "metadata": {},
   "outputs": [],
   "source": [
    "def isNumber(str):\n",
    "     \n",
    "    regex = (\"^\\d*[.,]?\\d*$\")\n",
    "     \n",
    "    # Compile the ReGex\n",
    "    p = re.compile(regex)\n",
    " \n",
    "    # If the string is empty\n",
    "    # return false\n",
    "    if (str == None):\n",
    "        return 0\n",
    " \n",
    "    # Return if the string\n",
    "    # matched the ReGex\n",
    "    if(re.search(p, str)):\n",
    "        return 1\n",
    "    else:\n",
    "        return 0    "
   ]
  },
  {
   "cell_type": "code",
   "execution_count": 10,
   "metadata": {},
   "outputs": [],
   "source": [
    "def isValidPercent(str):\n",
    " \n",
    "  \n",
    "    regex = (\"\\d+(\\.\\d+)?%\")\n",
    "    \n",
    "    # Compile the ReGex\n",
    "    p = re.compile(regex)\n",
    " \n",
    "    # If the string is empty\n",
    "    # return false\n",
    "    if (str == None):\n",
    "        return 0\n",
    " \n",
    "    # Return if the string\n",
    "    # matched the ReGex\n",
    "    if(re.search(p, str)):\n",
    "        return 1\n",
    "    else:\n",
    "        return 0"
   ]
  },
  {
   "cell_type": "code",
   "execution_count": 19,
   "metadata": {},
   "outputs": [],
   "source": [
    "import time\n",
    "\n",
    "def isTimeFormat(str):\n",
    "    try:\n",
    "        time.strptime(str, '%H:%M')\n",
    "        return 1\n",
    "    except ValueError:\n",
    "        return 0"
   ]
  },
  {
   "cell_type": "code",
   "execution_count": 20,
   "metadata": {},
   "outputs": [
    {
     "name": "stdout",
     "output_type": "stream",
     "text": [
      "<class 'time.struct_time'>\n"
     ]
    }
   ],
   "source": [
    "print(type(time.strptime(\"08:11\", '%H:%M')))"
   ]
  },
  {
   "cell_type": "code",
   "execution_count": 12,
   "metadata": {},
   "outputs": [],
   "source": [
    "# url = \"https://www.timeshighereducation.com/location\"\n",
    "# for col_index in df:\n",
    "#     for col in df[col_index]:\n",
    "#         if(isValidURL(col) == True):\n",
    "#             print(col,\"   Yes\")\n",
    "#         else:\n",
    "#             print(col,\"   No\")\n"
   ]
  },
  {
   "cell_type": "code",
   "execution_count": 13,
   "metadata": {},
   "outputs": [],
   "source": [
    "# for col in df[\"Col11\"]:\n",
    "#     if(isValidFloat(col) == True):\n",
    "#         print(col,\"   Yes\")\n",
    "#     else:\n",
    "#         print(col,\"   No\")"
   ]
  },
  {
   "cell_type": "code",
   "execution_count": 14,
   "metadata": {},
   "outputs": [],
   "source": [
    "# for col in df[\"Col10\"]:\n",
    "#     if(isNumber(col) == True):\n",
    "#         print(col,\"   Yes\")\n",
    "#     else:\n",
    "#         print(col,\"   No\")"
   ]
  },
  {
   "cell_type": "code",
   "execution_count": 15,
   "metadata": {},
   "outputs": [],
   "source": [
    "# for col in df[\"Col12\"]:\n",
    "#     if(isValidPercent(col) == True):\n",
    "#         print(col,\"   Yes\")\n",
    "#     else:\n",
    "#         print(col,\"   No\")"
   ]
  },
  {
   "cell_type": "code",
   "execution_count": 16,
   "metadata": {},
   "outputs": [],
   "source": [
    "from sentence_transformers import SentenceTransformer\n",
    "def bertembedding(df):\n",
    "    model = SentenceTransformer('all-MiniLM-L6-v2')\n",
    "\n",
    "    list_data = []\n",
    "    for column in df:\n",
    "        list_data+=df[column].tolist()\n",
    "\n",
    "    sentences = list_data\n",
    "    embeddings = model.encode(sentences)\n",
    "    \n",
    "    return embeddings"
   ]
  },
  {
   "cell_type": "code",
   "execution_count": 17,
   "metadata": {},
   "outputs": [],
   "source": [
    "def extract(df):\n",
    "    # #df\n",
    "    embeddings = bertembedding(df)\n",
    "    \n",
    "    temp_feature = [[],[],[],[],[]]\n",
    "\n",
    "    for col_name in df:\n",
    "        for col in df[col_name].tolist():\n",
    "                #isNumber\n",
    "                if isNumber(col) :\n",
    "                    temp_feature[0].append(1)\n",
    "                else:\n",
    "                    temp_feature[0].append(-1)\n",
    "\n",
    "                #isValidFloat\n",
    "                if isValidFloat(col) :\n",
    "                    temp_feature[1].append(1)\n",
    "                else:\n",
    "                    temp_feature[1].append(-1)\n",
    "\n",
    "                #isValidURL\n",
    "                if isValidURL(col) :\n",
    "                    temp_feature[2].append(1)\n",
    "                else:\n",
    "                    temp_feature[2].append(-1)\n",
    "\n",
    "                #isValidPercent\n",
    "                if isValidPercent(col) :\n",
    "                    temp_feature[3].append(1)\n",
    "                else:\n",
    "                    temp_feature[3].append(-1)\n",
    "\n",
    "                #isTimeFormat\n",
    "                if isTimeFormat(col) :\n",
    "                    temp_feature[4].append(1)\n",
    "                else:\n",
    "                    temp_feature[4].append(-1)\n",
    "\n",
    "\n",
    "\n",
    "\n",
    "    for i,feature in enumerate(temp_feature):\n",
    "        temp_feature[i] = np.reshape(feature, (len(df)*len(df.columns),1))\n",
    "    for feature in temp_feature:\n",
    "        embeddings = np.concatenate((embeddings,feature),axis=1)                    \n",
    "\n",
    "                                            \n",
    "    return embeddings"
   ]
  },
  {
   "cell_type": "code",
   "execution_count": 18,
   "metadata": {},
   "outputs": [],
   "source": [
    "def set_extract(df):\n",
    "    # #df\n",
    "   \n",
    "    temp_feature = [0,0,0,0,0]\n",
    "\n",
    "    for col_name in df:\n",
    "        for col in df[col_name].tolist():\n",
    "                #isNumber\n",
    "                if isNumber(col) :\n",
    "                    print(col,\" #isNumber \")\n",
    "                    temp_feature[0] += 1\n",
    "                    \n",
    "                #isValidURL\n",
    "                elif isValidURL(col) :\n",
    "                    print(col,\" #isValidURL \")\n",
    "                    temp_feature[2] += 1\n",
    "\n",
    "                #isValidFloat\n",
    "                elif isValidFloat(col) :\n",
    "                    print(col,\" #isValidFloat \")\n",
    "                    temp_feature[1] += 1\n",
    "\n",
    "                \n",
    "\n",
    "                #isValidPercent\n",
    "                elif isValidPercent(col) :\n",
    "                    print(col,\" #isValidPercent \")\n",
    "                    temp_feature[3] += 1\n",
    "\n",
    "                #isTimeFormat\n",
    "                elif isTimeFormat(col) :\n",
    "                    print(col,\" #isTimeFormat \")\n",
    "                    temp_feature[4] += 1   \n",
    "                \n",
    "               \n",
    "    return temp_feature"
   ]
  },
  {
   "cell_type": "code",
   "execution_count": 19,
   "metadata": {},
   "outputs": [],
   "source": [
    "def set_cell_extract(df,col_num):\n",
    "    # #df\n",
    "    embeddings = bertembedding(df)\n",
    "    \n",
    "    temp_feature = [[],[],[],[],[],[]]\n",
    "\n",
    "    for col_name in df:\n",
    "        for col in df[col_name].tolist():\n",
    "                #isNumber\n",
    "                if isNumber(col) :\n",
    "                    temp_feature[0].append(1)\n",
    "                else:\n",
    "                    temp_feature[0].append(-1)\n",
    "\n",
    "                #isValidFloat\n",
    "                if isValidFloat(col) :\n",
    "                    temp_feature[1].append(1)\n",
    "                else:\n",
    "                    temp_feature[1].append(-1)\n",
    "\n",
    "                #isValidURL\n",
    "                if isValidURL(col) :\n",
    "                    temp_feature[2].append(1)\n",
    "                else:\n",
    "                    temp_feature[2].append(-1)\n",
    "\n",
    "                #isValidPercent\n",
    "                if isValidPercent(col) :\n",
    "                    temp_feature[3].append(1)\n",
    "                else:\n",
    "                    temp_feature[3].append(-1)\n",
    "\n",
    "                #isTimeFormat\n",
    "                if isTimeFormat(col) :\n",
    "                    temp_feature[4].append(1)\n",
    "                else:\n",
    "                    temp_feature[4].append(-1)\n",
    "\n",
    "                temp_feature[5].append(col_num)\n",
    "\n",
    "\n",
    "    for i,feature in enumerate(temp_feature):\n",
    "        temp_feature[i] = np.reshape(feature, (len(df)*len(df.columns),1))\n",
    "    for feature in temp_feature:\n",
    "        embeddings = np.concatenate((embeddings,feature),axis=1)                    \n",
    "\n",
    "                                            \n",
    "    return embeddings"
   ]
  },
  {
   "cell_type": "code",
   "execution_count": 27,
   "metadata": {},
   "outputs": [],
   "source": [
    "def extract_type(df):\n",
    "    _number = {}\n",
    "    _string = {}\n",
    "    _URL = {}\n",
    "    for col_name in df:\n",
    "        col =  df[col_name].tolist()[0]\n",
    "        if checkisdigit(col) :\n",
    "            _number.update({col_name: df[col_name].tolist()})\n",
    "        elif isValidURL(col) :\n",
    "            _URL.update({col_name: df[col_name].tolist()})\n",
    "        else:\n",
    "            _string.update({col_name: df[col_name].tolist()})\n",
    "    \n",
    "    number = pd.DataFrame(_number)\n",
    "    URL = pd.DataFrame(_URL)\n",
    "    #time = pd.DataFrame(_time)\n",
    "    string = pd.DataFrame(_string)\n",
    "    \n",
    "    \n",
    "    return number,URL,string\n",
    "        "
   ]
  },
  {
   "cell_type": "code",
   "execution_count": 24,
   "metadata": {},
   "outputs": [],
   "source": [
    "def checkisdigit(str):\n",
    "    return str.replace('.','',1).isdigit()"
   ]
  }
 ],
 "metadata": {
  "kernelspec": {
   "display_name": "Python 3",
   "language": "python",
   "name": "python3"
  },
  "language_info": {
   "codemirror_mode": {
    "name": "ipython",
    "version": 3
   },
   "file_extension": ".py",
   "mimetype": "text/x-python",
   "name": "python",
   "nbconvert_exporter": "python",
   "pygments_lexer": "ipython3",
   "version": "3.8.10"
  }
 },
 "nbformat": 4,
 "nbformat_minor": 2
}
